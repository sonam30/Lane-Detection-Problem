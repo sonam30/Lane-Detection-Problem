{
 "cells": [
  {
   "cell_type": "code",
   "execution_count": 41,
   "metadata": {},
   "outputs": [],
   "source": [
    "import cv2\n",
    "import numpy as np\n",
    "import matplotlib.pyplot as plt"
   ]
  },
  {
   "cell_type": "code",
   "execution_count": 124,
   "metadata": {},
   "outputs": [],
   "source": [
    "def region_of_interest(img,region_pts):\n",
    "    \"\"\"\n",
    "    region_of_interest(Image,Region_pts)\n",
    "    The function is used to obtain the region of interest in a given image.\n",
    "    @param Image:Grayscale Image\n",
    "    @param Region_pts: List of Contours Arrays for the given region of interests\n",
    "    \"\"\"\n",
    "    mask=np.zeros(img.shape,dtype=np.uint8)\n",
    "    cv2.fillPoly(img = mask, pts = region_pts, color =  255)\n",
    "    ROI_img=cv2.bitwise_and(img,mask)\n",
    "    return ROI_img"
   ]
  },
  {
   "cell_type": "code",
   "execution_count": 125,
   "metadata": {},
   "outputs": [],
   "source": [
    "def get_detected_lane(image):\n",
    "    \"\"\"\n",
    "    get_detected_lane(Image)\n",
    "    Function to dtetct the driving lane of the road in the video\n",
    "    @param Image:Colored image.\n",
    "    The function does the pre-processing part as follows:\n",
    "    1) Convert color image to grayscale image\n",
    "    2) Find the edges in a grayscale image using Canny's edge detection algoritm\n",
    "    3) Identifying the Region of interest in the image\n",
    "    \n",
    "    \"\"\"\n",
    "    (height,width)=(image.shape[0],image.shape[1])\n",
    "    gray_img=cv2.cvtColor(image,cv2.COLOR_BGR2GRAY)\n",
    "    \n",
    "    #Using Canny edge detection algorithm to find the edge of the road and lanes\n",
    "    edge_img=cv2.Canny(gray_img,90,120)\n",
    "    \n",
    "    #Defining Region of interest in an image\n",
    "    ROI= np.array([(0,height),(width/2,height*0.60),(width,height)],np.int32)\n",
    "        \n",
    "    cropped_img=region_of_interest(edge_img,[ROI])\n",
    "    \n",
    "    #Hough transformation of image to find the relevant edges\n",
    "    lines=cv2.HoughLinesP(cropped_img,rho=2,theta=np.pi/180,threshold=50,lines=np.array([]),minLineLength=40,maxLineGap=150)\n",
    "    img_with_lines=draw_lines(image,lines)\n",
    "    \n",
    "    return img_with_lines"
   ]
  },
  {
   "cell_type": "code",
   "execution_count": 126,
   "metadata": {},
   "outputs": [],
   "source": [
    "def draw_lines(image,lines):\n",
    "    \"\"\"\n",
    "    draw_lines(Image,Lines)\n",
    "    @brief Function to draw detected line segments on the image\n",
    "    \n",
    "    The function draws the lines on the colored images by connecting the line segments.\n",
    "    @param Image: Colored image\n",
    "    @param Lines: line segments in a binary image \n",
    "    \"\"\"\n",
    "    lines_image=np.zeros((image.shape[0],image.shape[1], 3), dtype=np.uint8)\n",
    "    for line in lines:\n",
    "        for x1,y1,x2,y2 in line:\n",
    "            cv2.line(lines_image,(x1,y1),(x2,y2),(255,0,0),thickness=3)\n",
    "    image_with_lines=cv2.addWeighted(image,0.8,lines_image,1,0.0)\n",
    "    return image_with_lines"
   ]
  },
  {
   "cell_type": "code",
   "execution_count": 120,
   "metadata": {},
   "outputs": [],
   "source": [
    "video=cv2.VideoCapture(\"lane_detection_video.mp4\")\n",
    "while video.isOpened():\n",
    "    isgrabbed,frame=video.read()\n",
    "    if not isgrabbed:\n",
    "        break\n",
    "    frame=get_detected_lane(frame)\n",
    "    cv2.imshow(\"Lane detection video\",frame)\n",
    "    cv2.waitKey(20)\n",
    "video.release()\n",
    "cv2.destroyAllWindows()"
   ]
  },
  {
   "cell_type": "code",
   "execution_count": 119,
   "metadata": {},
   "outputs": [],
   "source": [
    "while video.isOpened():\n",
    "    isgrabbed,frame=video.read()\n",
    "    if not isgrabbed:\n",
    "        break\n",
    "    frame=get_detected_lane(frame)\n",
    "    cv2.imshow(\"Lane detection video\",frame)\n",
    "    cv2.waitKey(20)\n",
    "video.release()\n",
    "cv2.destroyAllWindows()"
   ]
  }
 ],
 "metadata": {
  "kernelspec": {
   "display_name": "Python 3",
   "language": "python",
   "name": "python3"
  },
  "language_info": {
   "codemirror_mode": {
    "name": "ipython",
    "version": 3
   },
   "file_extension": ".py",
   "mimetype": "text/x-python",
   "name": "python",
   "nbconvert_exporter": "python",
   "pygments_lexer": "ipython3",
   "version": "3.7.6"
  }
 },
 "nbformat": 4,
 "nbformat_minor": 4
}
